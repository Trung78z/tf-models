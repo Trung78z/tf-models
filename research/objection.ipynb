{
 "cells": [
  {
   "cell_type": "code",
   "id": "initial_id",
   "metadata": {
    "collapsed": true,
    "ExecuteTime": {
     "end_time": "2025-05-03T07:48:50.168049Z",
     "start_time": "2025-05-03T07:48:50.048305Z"
    }
   },
   "source": "!lscpu",
   "outputs": [
    {
     "name": "stdout",
     "output_type": "stream",
     "text": [
      "Architecture:             x86_64\r\n",
      "  CPU op-mode(s):         32-bit, 64-bit\r\n",
      "  Address sizes:          39 bits physical, 48 bits virtual\r\n",
      "  Byte Order:             Little Endian\r\n",
      "CPU(s):                   8\r\n",
      "  On-line CPU(s) list:    0-7\r\n",
      "Vendor ID:                GenuineIntel\r\n",
      "  Model name:             Intel(R) Core(TM) i5-9300H CPU @ 2.40GHz\r\n",
      "    CPU family:           6\r\n",
      "    Model:                158\r\n",
      "    Thread(s) per core:   2\r\n",
      "    Core(s) per socket:   4\r\n",
      "    Socket(s):            1\r\n",
      "    Stepping:             13\r\n",
      "    CPU(s) scaling MHz:   98%\r\n",
      "    CPU max MHz:          4100.0000\r\n",
      "    CPU min MHz:          800.0000\r\n",
      "    BogoMIPS:             4800.00\r\n",
      "    Flags:                fpu vme de pse tsc msr pae mce cx8 apic sep mtrr pge m\r\n",
      "                          ca cmov pat pse36 clflush dts acpi mmx fxsr sse sse2 s\r\n",
      "                          s ht tm pbe syscall nx pdpe1gb rdtscp lm constant_tsc \r\n",
      "                          art arch_perfmon pebs bts rep_good nopl xtopology nons\r\n",
      "                          top_tsc cpuid aperfmperf pni pclmulqdq dtes64 monitor \r\n",
      "                          ds_cpl vmx est tm2 ssse3 sdbg fma cx16 xtpr pdcm pcid \r\n",
      "                          sse4_1 sse4_2 x2apic movbe popcnt tsc_deadline_timer a\r\n",
      "                          es xsave avx f16c rdrand lahf_lm abm 3dnowprefetch cpu\r\n",
      "                          id_fault epb ssbd ibrs ibpb stibp ibrs_enhanced tpr_sh\r\n",
      "                          adow flexpriority ept vpid ept_ad fsgsbase tsc_adjust \r\n",
      "                          bmi1 avx2 smep bmi2 erms invpcid mpx rdseed adx smap c\r\n",
      "                          lflushopt intel_pt xsaveopt xsavec xgetbv1 xsaves dthe\r\n",
      "                          rm ida arat pln pts hwp hwp_notify hwp_act_window hwp_\r\n",
      "                          epp vnmi md_clear flush_l1d arch_capabilities\r\n",
      "Virtualization features:  \r\n",
      "  Virtualization:         VT-x\r\n",
      "Caches (sum of all):      \r\n",
      "  L1d:                    128 KiB (4 instances)\r\n",
      "  L1i:                    128 KiB (4 instances)\r\n",
      "  L2:                     1 MiB (4 instances)\r\n",
      "  L3:                     8 MiB (1 instance)\r\n",
      "NUMA:                     \r\n",
      "  NUMA node(s):           1\r\n",
      "  NUMA node0 CPU(s):      0-7\r\n",
      "Vulnerabilities:          \r\n",
      "  Gather data sampling:   Mitigation; Microcode\r\n",
      "  Itlb multihit:          KVM: Mitigation: VMX disabled\r\n",
      "  L1tf:                   Not affected\r\n",
      "  Mds:                    Not affected\r\n",
      "  Meltdown:               Not affected\r\n",
      "  Mmio stale data:        Mitigation; Clear CPU buffers; SMT vulnerable\r\n",
      "  Reg file data sampling: Not affected\r\n",
      "  Retbleed:               Mitigation; Enhanced IBRS\r\n",
      "  Spec rstack overflow:   Not affected\r\n",
      "  Spec store bypass:      Mitigation; Speculative Store Bypass disabled via prct\r\n",
      "                          l\r\n",
      "  Spectre v1:             Mitigation; usercopy/swapgs barriers and __user pointe\r\n",
      "                          r sanitization\r\n",
      "  Spectre v2:             Mitigation; Enhanced / Automatic IBRS; IBPB conditiona\r\n",
      "                          l; RSB filling; PBRSB-eIBRS SW sequence; BHI SW loop, \r\n",
      "                          KVM SW loop\r\n",
      "  Srbds:                  Mitigation; Microcode\r\n",
      "  Tsx async abort:        Not affected\r\n"
     ]
    }
   ],
   "execution_count": 1
  },
  {
   "metadata": {},
   "cell_type": "code",
   "outputs": [],
   "execution_count": null,
   "source": "",
   "id": "beb6f5b1633dc55c"
  }
 ],
 "metadata": {
  "kernelspec": {
   "display_name": "Python 3",
   "language": "python",
   "name": "python3"
  },
  "language_info": {
   "codemirror_mode": {
    "name": "ipython",
    "version": 2
   },
   "file_extension": ".py",
   "mimetype": "text/x-python",
   "name": "python",
   "nbconvert_exporter": "python",
   "pygments_lexer": "ipython2",
   "version": "2.7.6"
  }
 },
 "nbformat": 4,
 "nbformat_minor": 5
}
